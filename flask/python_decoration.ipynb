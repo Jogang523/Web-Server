{
 "cells": [
  {
   "cell_type": "code",
   "execution_count": 2,
   "metadata": {},
   "outputs": [
    {
     "name": "stdout",
     "output_type": "stream",
     "text": [
      "call outer_funnc\n",
      "call inner_func\n"
     ]
    }
   ],
   "source": [
    "# 중첩함수 : 함수 내에 정의된 또 다른 함수...\n",
    "def outer_func():\n",
    "    print('call outer_funnc')\n",
    "\n",
    "    def inner_func():\n",
    "        return 'call inner_func'\n",
    "    \n",
    "    print(inner_func())\n",
    "outer_func()"
   ]
  },
  {
   "cell_type": "code",
   "execution_count": 20,
   "metadata": {},
   "outputs": [],
   "source": [
    "def outer_func(num):\n",
    "    print(\"call outer func\")\n",
    "\n",
    "    def inner_func():\n",
    "        print(num)\n",
    "        return 'complex'\n",
    "\n",
    "    return inner_func"
   ]
  },
  {
   "cell_type": "code",
   "execution_count": 21,
   "metadata": {},
   "outputs": [
    {
     "name": "stdout",
     "output_type": "stream",
     "text": [
      "call outer func\n"
     ]
    }
   ],
   "source": [
    "fn=outer_func(10)"
   ]
  },
  {
   "cell_type": "code",
   "execution_count": 22,
   "metadata": {},
   "outputs": [
    {
     "name": "stdout",
     "output_type": "stream",
     "text": [
      "10\n"
     ]
    },
    {
     "data": {
      "text/plain": [
       "'complex'"
      ]
     },
     "execution_count": 22,
     "metadata": {},
     "output_type": "execute_result"
    }
   ],
   "source": [
    "fn()"
   ]
  },
  {
   "cell_type": "code",
   "execution_count": 11,
   "metadata": {},
   "outputs": [],
   "source": [
    "#frist_class fuction(일급함수)\n",
    "# 1. 함수를 변수에 저장 할 수 있다.\n",
    "# 2. 함수의 return 값으로 함수를 return 할 수 있다.\n",
    "# 3. 함수를 매개변수로 받을 수 있다.\n",
    "\n",
    "# 파이썬 함수는 frist_class fuction에 해당됨\n",
    "# frist_class fuction을 지원하는 언어: python, Go, javascript, Kotlin..."
   ]
  },
  {
   "cell_type": "code",
   "execution_count": 7,
   "metadata": {},
   "outputs": [
    {
     "data": {
      "text/plain": [
       "4"
      ]
     },
     "execution_count": 7,
     "metadata": {},
     "output_type": "execute_result"
    }
   ],
   "source": [
    "#1. 함수가 변수에 저장될 수 있다\n",
    "def calc_square(digit):\n",
    "    return digit * digit\n",
    "f1=calc_square\n",
    "f1(2)"
   ]
  },
  {
   "cell_type": "code",
   "execution_count": null,
   "metadata": {},
   "outputs": [],
   "source": [
    "def calc_square(digit):\n",
    "    return digit * digit\n",
    "\n",
    "def list_square(function, digit_list):\n",
    "    result_list=[]\n",
    "\n",
    "    for digit in digit_list:\n",
    "        result = function(digit)\n",
    "        result_list.append(result)\n",
    "    print(result_list)\n",
    "\n",
    "list_square(calc_square,[1,2,3])\n"
   ]
  },
  {
   "cell_type": "code",
   "execution_count": 25,
   "metadata": {},
   "outputs": [],
   "source": [
    "# 3. 함수를 리턴 할 수 있다\n",
    "def logger(msg):\n",
    "    \n",
    "    def mag_creator():\n",
    "       print('description:', msg)\n",
    "\n",
    "    return mag_creator\n",
    "inner_func = logger('ptyhon is fun!!')\n",
    "inner_func()"
   ]
  },
  {
   "cell_type": "code",
   "execution_count": 36,
   "metadata": {},
   "outputs": [
    {
     "name": "stdout",
     "output_type": "stream",
     "text": [
      "<h1>안녕하세요</h1>\n"
     ]
    }
   ],
   "source": [
    "#fist_class 함수의 특성을 활용한 예시\n",
    "def html_creator(tag):\n",
    "\n",
    "    def text_wrapper(msg):\n",
    "        print('<{0}>{1}</{0}>'.format(tag,msg))\n",
    "    return text_wrapper\n",
    "\n",
    "inner_func = html_creator('h1')\n",
    "inner_func('안녕하세요')"
   ]
  },
  {
   "cell_type": "code",
   "execution_count": 33,
   "metadata": {},
   "outputs": [
    {
     "name": "stdout",
     "output_type": "stream",
     "text": [
      "* python\n",
      "* java\n",
      "* html\n"
     ]
    }
   ],
   "source": [
    "def list_creator(tag):\n",
    "\n",
    "  def text_wrapper(list_data):\n",
    "    for item in list_data:\n",
    "      print(\"{} {}\".format(tag, item))\n",
    "\n",
    "  return text_wrapper\n",
    "\n",
    "inner_func = list_creator('*')\n",
    "inner_func(['python', 'java', 'html'])"
   ]
  },
  {
   "cell_type": "code",
   "execution_count": 34,
   "metadata": {},
   "outputs": [
    {
     "name": "stdout",
     "output_type": "stream",
     "text": [
      "python login\n"
     ]
    }
   ],
   "source": [
    "# 데코레이터(Decorator)\n",
    "# 함수를 입력으로 받아서, 함수를 꾸며서 새로운 함수를 리턴...\n",
    "\n",
    "def logger_login():\n",
    "    print('python login')\n",
    "\n",
    "logger_login()"
   ]
  },
  {
   "cell_type": "code",
   "execution_count": 35,
   "metadata": {},
   "outputs": [
    {
     "name": "stdout",
     "output_type": "stream",
     "text": [
      "2024-08-07 13:09:20.679687\n",
      "python login\n",
      "2024-08-07 13:09:20.679687\n"
     ]
    }
   ],
   "source": [
    "import datetime\n",
    "print(datetime.datetime.now())\n",
    "logger_login()\n",
    "print(datetime.datetime.now())"
   ]
  },
  {
   "cell_type": "code",
   "execution_count": 38,
   "metadata": {},
   "outputs": [
    {
     "name": "stdout",
     "output_type": "stream",
     "text": [
      "time :  2024-08-07 13:18:18.792861\n",
      "python login\n",
      "time :  2024-08-07 13:18:18.792861\n"
     ]
    }
   ],
   "source": [
    "def logger_login():\n",
    "  print('python login')\n",
    "\n",
    "def datetime_decorator(func):\n",
    "\n",
    "  def wrapper():\n",
    "    print('time : ', datetime.datetime.now())\n",
    "    func()\n",
    "    print('time : ', datetime.datetime.now())\n",
    "\n",
    "  return wrapper\n",
    "inner_func = datetime_decorator(logger_login)\n",
    "inner_func()"
   ]
  },
  {
   "cell_type": "code",
   "execution_count": null,
   "metadata": {},
   "outputs": [],
   "source": [
    "ㅇ"
   ]
  }
 ],
 "metadata": {
  "kernelspec": {
   "display_name": "Python 3",
   "language": "python",
   "name": "python3"
  },
  "language_info": {
   "codemirror_mode": {
    "name": "ipython",
    "version": 3
   },
   "file_extension": ".py",
   "mimetype": "text/x-python",
   "name": "python",
   "nbconvert_exporter": "python",
   "pygments_lexer": "ipython3",
   "version": "3.12.3"
  }
 },
 "nbformat": 4,
 "nbformat_minor": 2
}
