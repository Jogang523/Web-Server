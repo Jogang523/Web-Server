{
 "cells": [
  {
   "cell_type": "code",
   "execution_count": null,
   "metadata": {},
   "outputs": [],
   "source": [
    "# 1.django - full stack, 규모있는 사이트, 학습곡선이 높다,, 웹 개발 전문,,\n",
    "# 2.flask - 가볍고 필수적인 기능만 제공, 나머지 기능은 직접 개발을 해야,, 경량사이트나 프로토타입에 많이 사용, 데이터 기반 서비스를 제공,,\n",
    "# 3.fastapi - flask와 유사한 문법, 가장 최근에 등장한 web framework - 최신의 web 개발 경향이나 신기술을 많이 도입, 속도가 빠름.\n",
    "\n",
    "# frontend\n",
    "# client가 brower를 통해서 interface하는 부분\n",
    "# 사용자의 Ui를 담당\n",
    "# html, css, javascript, react\n",
    "\n",
    "# web\n",
    "# client - 서버에 요청(request)를 하는 주제\n",
    "# server - client로 부터 요청을 받고 처리해서 응답(response)하는 주제\n",
    "# 통신의 약속 규약 (protocol) = http(s) protocol, ftp protocol, smtp protocol,,,"
   ]
  },
  {
   "cell_type": "code",
   "execution_count": 1,
   "metadata": {},
   "outputs": [
    {
     "name": "stdout",
     "output_type": "stream",
     "text": [
      "Collecting flask\n",
      "  Downloading flask-3.0.3-py3-none-any.whl.metadata (3.2 kB)\n",
      "Requirement already satisfied: Werkzeug>=3.0.0 in c:\\users\\m\\appdata\\local\\programs\\python\\python312\\lib\\site-packages (from flask) (3.0.3)\n",
      "Requirement already satisfied: Jinja2>=3.1.2 in c:\\users\\m\\appdata\\local\\programs\\python\\python312\\lib\\site-packages (from flask) (3.1.4)\n",
      "Collecting itsdangerous>=2.1.2 (from flask)\n",
      "  Downloading itsdangerous-2.2.0-py3-none-any.whl.metadata (1.9 kB)\n",
      "Collecting click>=8.1.3 (from flask)\n",
      "  Downloading click-8.1.7-py3-none-any.whl.metadata (3.0 kB)\n",
      "Collecting blinker>=1.6.2 (from flask)\n",
      "  Downloading blinker-1.8.2-py3-none-any.whl.metadata (1.6 kB)\n",
      "Requirement already satisfied: colorama in c:\\users\\m\\appdata\\roaming\\python\\python312\\site-packages (from click>=8.1.3->flask) (0.4.6)\n",
      "Requirement already satisfied: MarkupSafe>=2.0 in c:\\users\\m\\appdata\\local\\programs\\python\\python312\\lib\\site-packages (from Jinja2>=3.1.2->flask) (2.1.5)\n",
      "Downloading flask-3.0.3-py3-none-any.whl (101 kB)\n",
      "   ---------------------------------------- 0.0/101.7 kB ? eta -:--:--\n",
      "   ---------------------------------------- 101.7/101.7 kB 5.7 MB/s eta 0:00:00\n",
      "Downloading blinker-1.8.2-py3-none-any.whl (9.5 kB)\n",
      "Downloading click-8.1.7-py3-none-any.whl (97 kB)\n",
      "   ---------------------------------------- 0.0/97.9 kB ? eta -:--:--\n",
      "   ---------------------------------------- 97.9/97.9 kB 5.5 MB/s eta 0:00:00\n",
      "Downloading itsdangerous-2.2.0-py3-none-any.whl (16 kB)\n",
      "Installing collected packages: itsdangerous, click, blinker, flask\n",
      "Successfully installed blinker-1.8.2 click-8.1.7 flask-3.0.3 itsdangerous-2.2.0\n"
     ]
    },
    {
     "name": "stderr",
     "output_type": "stream",
     "text": [
      "\n",
      "[notice] A new release of pip is available: 24.1.2 -> 24.2\n",
      "[notice] To update, run: python.exe -m pip install --upgrade pip\n"
     ]
    }
   ],
   "source": [
    "!pip install flask"
   ]
  },
  {
   "cell_type": "code",
   "execution_count": 2,
   "metadata": {},
   "outputs": [],
   "source": [
    "from flask import Flask"
   ]
  },
  {
   "cell_type": "code",
   "execution_count": 3,
   "metadata": {},
   "outputs": [],
   "source": [
    "app = Flask(__name__)"
   ]
  },
  {
   "cell_type": "code",
   "execution_count": 4,
   "metadata": {},
   "outputs": [
    {
     "data": {
      "text/plain": [
       "'__main__'"
      ]
     },
     "execution_count": 4,
     "metadata": {},
     "output_type": "execute_result"
    }
   ],
   "source": [
    "__name__ # 현재 작업위치를 나타냄"
   ]
  },
  {
   "cell_type": "code",
   "execution_count": 5,
   "metadata": {},
   "outputs": [
    {
     "name": "stdout",
     "output_type": "stream",
     "text": [
      " * Serving Flask app '__main__'\n",
      " * Debug mode: off\n"
     ]
    },
    {
     "name": "stderr",
     "output_type": "stream",
     "text": [
      "WARNING: This is a development server. Do not use it in a production deployment. Use a production WSGI server instead.\n",
      " * Running on http://127.0.0.1:8080\n",
      "Press CTRL+C to quit\n",
      "127.0.0.1 - - [05/Aug/2024 12:12:56] \"GET / HTTP/1.1\" 404 -\n",
      "127.0.0.1 - - [05/Aug/2024 12:12:56] \"GET /favicon.ico HTTP/1.1\" 404 -\n",
      "127.0.0.1 - - [05/Aug/2024 12:15:20] \"GET /hello HTTP/1.1\" 200 -\n",
      "127.0.0.1 - - [05/Aug/2024 12:15:20] \"GET /favicon.ico HTTP/1.1\" 404 -\n"
     ]
    }
   ],
   "source": [
    "#routing: client가 sever에 요청을 보내면, 요청의 조건에 맞쳐서 response하도록 경로를 잡아줌\n",
    "@app.route('/hello') \n",
    "def test():\n",
    "    return ' Hello Flask'\n",
    "if __name__=='__main__':\n",
    "    app.run(host='127.0.0.1', port='8080')\n",
    "    "
   ]
  },
  {
   "cell_type": "code",
   "execution_count": 8,
   "metadata": {},
   "outputs": [
    {
     "name": "stdout",
     "output_type": "stream",
     "text": [
      " * Serving Flask app '__main__'\n",
      " * Debug mode: off\n"
     ]
    },
    {
     "name": "stderr",
     "output_type": "stream",
     "text": [
      "WARNING: This is a development server. Do not use it in a production deployment. Use a production WSGI server instead.\n",
      " * Running on all addresses (0.0.0.0)\n",
      " * Running on http://127.0.0.1:8080\n",
      " * Running on http://192.168.101.78:8080\n",
      "Press CTRL+C to quit\n",
      "127.0.0.1 - - [05/Aug/2024 12:40:07] \"GET / HTTP/1.1\" 200 -\n",
      "127.0.0.1 - - [05/Aug/2024 12:40:13] \"GET /hello HTTP/1.1\" 200 -\n",
      "127.0.0.1 - - [05/Aug/2024 12:40:18] \"GET /ㄹ갼ㅅ HTTP/1.1\" 404 -\n",
      "127.0.0.1 - - [05/Aug/2024 12:40:22] \"GET /frist HTTP/1.1\" 200 -\n"
     ]
    }
   ],
   "source": [
    "app=Flask(__name__)\n",
    "\n",
    "@app.route('/') # root 경로로 요청 시\n",
    "def hello():\n",
    "    return 'hello world'\n",
    "@app.route('/hello') # /hello 경로로 요청시\n",
    "def hello_flask():\n",
    "    return \"<h1> hello world </h1>\"\n",
    "@app.route('/frist') # /frist 경로로 요청시\n",
    "def hello_first():\n",
    "    return \"<h3> hello world </h3>\"\n",
    "if __name__=='__main__': # 현재 위치에서 직접 실행하면 서버 실행, 외부에서 import 해서 사용하는 경우에는 서버를 실행시키지 마라\n",
    "    app.run(host='0.0.0.0', port='8080') # Local : 내 pc, port: 접근 통로(문) 번호"
   ]
  },
  {
   "cell_type": "code",
   "execution_count": 9,
   "metadata": {},
   "outputs": [
    {
     "ename": "SyntaxError",
     "evalue": "incomplete input (218577753.py, line 7)",
     "output_type": "error",
     "traceback": [
      "\u001b[1;36m  Cell \u001b[1;32mIn[9], line 7\u001b[1;36m\u001b[0m\n\u001b[1;33m    if __name__=='__main__':\u001b[0m\n\u001b[1;37m                            ^\u001b[0m\n\u001b[1;31mSyntaxError\u001b[0m\u001b[1;31m:\u001b[0m incomplete input\n"
     ]
    }
   ],
   "source": [
    "app = Flask(__name__)\n",
    "\n",
    "@app.route('/example')\n",
    "def examlpe_func():\n",
    "    return html2\n",
    "\n",
    "if __name__=='__main__':\n",
    "    app.run(host='127.0.0.1,port='8081)"
   ]
  },
  {
   "cell_type": "code",
   "execution_count": 14,
   "metadata": {},
   "outputs": [
    {
     "name": "stdout",
     "output_type": "stream",
     "text": [
      " * Serving Flask app '__main__'\n",
      " * Debug mode: off\n"
     ]
    },
    {
     "name": "stderr",
     "output_type": "stream",
     "text": [
      "WARNING: This is a development server. Do not use it in a production deployment. Use a production WSGI server instead.\n",
      " * Running on http://127.0.0.1:8080\n",
      "Press CTRL+C to quit\n",
      "127.0.0.1 - - [05/Aug/2024 12:54:43] \"GET / HTTP/1.1\" 200 -\n",
      "127.0.0.1 - - [05/Aug/2024 12:54:54] \"GET /prosile/park HTTP/1.1\" 404 -\n",
      "127.0.0.1 - - [05/Aug/2024 12:55:00] \"GET /profile/park HTTP/1.1\" 200 -\n",
      "127.0.0.1 - - [05/Aug/2024 13:05:11] \"GET /sever_info HTTP/1.1\" 404 -\n",
      "127.0.0.1 - - [05/Aug/2024 13:05:31] \"GET /sever_info HTTP/1.1\" 404 -\n"
     ]
    }
   ],
   "source": [
    "app = Flask(__name__)\n",
    "@app.route('/')\n",
    "def examlpe_func():\n",
    "    return \"<h1> hello world </h1>\"\n",
    "@app.route('/profile/<username>')\n",
    "def get_proflie(username):\n",
    "    return 'hello,'+username\n",
    "@app.route('/first/<username>')\n",
    "def get_frist(username):\n",
    "    return '<h1> hello,{}!!</h1>'.format(username)\n",
    "\n",
    "if __name__=='__main__':\n",
    "    app.run(host='127.0.0.1',port='8080')"
   ]
  },
  {
   "cell_type": "code",
   "execution_count": null,
   "metadata": {},
   "outputs": [],
   "source": [
    "# Rest Api\n",
    "# 일반적으로 서버에서 html script, data를 받아서 browser를 통해서 내용확인\n",
    "# 서버로부터 순수하게 데이터만 받는 방식 => Rest api\n",
    "# response의 값의 형식: (xml), json, yaml,,,"
   ]
  },
  {
   "cell_type": "code",
   "execution_count": 16,
   "metadata": {},
   "outputs": [
    {
     "name": "stdout",
     "output_type": "stream",
     "text": [
      " * Serving Flask app '__main__'\n",
      " * Debug mode: off\n"
     ]
    },
    {
     "name": "stderr",
     "output_type": "stream",
     "text": [
      "WARNING: This is a development server. Do not use it in a production deployment. Use a production WSGI server instead.\n",
      " * Running on http://127.0.0.1:8080\n",
      "Press CTRL+C to quit\n",
      "127.0.0.1 - - [05/Aug/2024 13:08:04] \"GET /json_test HTTP/1.1\" 200 -\n"
     ]
    }
   ],
   "source": [
    "from flask import Flask, jsonify\n",
    "\n",
    "app=Flask(__name__)\n",
    "\n",
    "@app.route('/json_test')\n",
    "def hello_json():\n",
    "    data={'name':'김대리','family':'ph soon ri'}\n",
    "    return jsonify(data) #data를 json형식으로 client에세 전달 할 수 있다...\n",
    "\n",
    "@app.route('/server_info')\n",
    "def sever_json():\n",
    "    data={'server_name':'localhost','sever_port':'8080'}\n",
    "    return jsonify(data)\n",
    "\n",
    "if __name__=='__main__':\n",
    "    app.run(host='127.0.0.1',port='8080')  "
   ]
  },
  {
   "cell_type": "code",
   "execution_count": 17,
   "metadata": {},
   "outputs": [
    {
     "name": "stdout",
     "output_type": "stream",
     "text": [
      " * Serving Flask app '__main__'\n",
      " * Debug mode: off\n"
     ]
    },
    {
     "name": "stderr",
     "output_type": "stream",
     "text": [
      "WARNING: This is a development server. Do not use it in a production deployment. Use a production WSGI server instead.\n",
      " * Running on http://127.0.0.1:8080\n",
      "Press CTRL+C to quit\n"
     ]
    }
   ],
   "source": [
    "app=Flask(__name__)\n",
    "\n",
    "def app_file(data):\n",
    "    return data+5\n",
    "\n",
    "@app.route('/')\n",
    "def hello():\n",
    "    return \"<h1> hello world </h1>\"\n",
    "\n",
    "@app.route('/message/<int:message_id>')\n",
    "def get_message(message_id):\n",
    "    return \"message_id : {}\".format(message_id)\n",
    "\n",
    "@app.route('/first/<int:message_id>')\n",
    "def get_message1(message_id):\n",
    "    data=app_file(message_id)\n",
    "    return \"message_id : {}\".format(data)\n",
    "\n",
    "if __name__=='__main__':\n",
    "    app.run(host='127.0.0.1',port='8080')"
   ]
  },
  {
   "cell_type": "code",
   "execution_count": null,
   "metadata": {},
   "outputs": [],
   "source": []
  }
 ],
 "metadata": {
  "kernelspec": {
   "display_name": "Python 3",
   "language": "python",
   "name": "python3"
  },
  "language_info": {
   "codemirror_mode": {
    "name": "ipython",
    "version": 3
   },
   "file_extension": ".py",
   "mimetype": "text/x-python",
   "name": "python",
   "nbconvert_exporter": "python",
   "pygments_lexer": "ipython3",
   "version": "3.12.3"
  }
 },
 "nbformat": 4,
 "nbformat_minor": 2
}
