{
 "cells": [
  {
   "cell_type": "code",
   "execution_count": 1,
   "metadata": {},
   "outputs": [],
   "source": [
    "# 단순 복사\n",
    "# 얕은 복사\n",
    "# 깊은 복사"
   ]
  },
  {
   "cell_type": "code",
   "execution_count": 6,
   "metadata": {},
   "outputs": [],
   "source": [
    "# 메모리의 어느 물리적 공간이 10 생성\n",
    "# a =  10의 메모리 주소\n",
    "\n",
    "a = [10, 20 ,30]\n"
   ]
  },
  {
   "cell_type": "code",
   "execution_count": 7,
   "metadata": {},
   "outputs": [
    {
     "name": "stdout",
     "output_type": "stream",
     "text": [
      "[10, 20, 30]\n",
      "a: [20, 20, 30]\n",
      "b: [20, 20, 30]\n"
     ]
    }
   ],
   "source": [
    "# 단순 복사 (' = ' 를 통한 복사)\n",
    "\n",
    "# 실제로는 값을 복사하는 것이 아니라 주소 값을 복사해서 공유\n",
    "# 동일한 값을 a 와 b가 같이 가르키고 있다.\n",
    "\n",
    "b = a\n",
    "print(b)\n",
    "\n",
    "b[0] = 20 # 원본을 공유하고 있고, 원본 수정시 복사본도 수정됨\n",
    "\n",
    "print('a:', a)\n",
    "print('b:', b)"
   ]
  },
  {
   "cell_type": "code",
   "execution_count": 8,
   "metadata": {},
   "outputs": [
    {
     "name": "stdout",
     "output_type": "stream",
     "text": [
      "a: [1, 2, [3, 4]]\n",
      "b: [1, 2, [3, 4]]\n",
      "a: [1, 2, [3, 4]]\n",
      "b: [10, 2, [3, 4]]\n"
     ]
    }
   ],
   "source": [
    "# 얕은 복사\n",
    "\n",
    "# 복사해서 새로운 객체를 생성, 원래 값을 저장한다, 동일한 객체를 공유하지 않는다.\n",
    "\n",
    "import copy\n",
    "\n",
    "a = [1, 2, [3,4]]\n",
    "b = copy.copy(a)\n",
    "\n",
    "print('a:', a)\n",
    "print('b:', b)\n",
    "\n",
    "b[0] = 10\n",
    "\n",
    "print('a:', a)\n",
    "print('b:', b)\n"
   ]
  },
  {
   "cell_type": "code",
   "execution_count": 9,
   "metadata": {},
   "outputs": [
    {
     "name": "stdout",
     "output_type": "stream",
     "text": [
      "a: [1, 2, [10, 4]]\n",
      "b: [10, 2, [10, 4]]\n"
     ]
    }
   ],
   "source": [
    "b[2][0] = 10\n",
    "\n",
    "print('a:', a)\n",
    "print('b:', b) # b의 2번째 리스트의 0번째 값을 수정했지만, a의 2번째 리스트의 0번째 값도 수정됨\n",
    "\n",
    "# 얕은 복사\n",
    "# 최상위 레벨만 복사하고, 그 하위 레벨은 공유한다."
   ]
  },
  {
   "cell_type": "code",
   "execution_count": 10,
   "metadata": {},
   "outputs": [
    {
     "name": "stdout",
     "output_type": "stream",
     "text": [
      "a: [1, 2, [3, 4]]\n",
      "b: [1, 10, [10, 4]]\n"
     ]
    }
   ],
   "source": [
    "# 깊은 복사\n",
    "# 최상위 계층과 그 내부의 모든 객체를 완전히 새로운 객체로 복사해서 생성한다.\n",
    "\n",
    "a = [1,2,[3,4]]\n",
    "b = copy.deepcopy(a)\n",
    "\n",
    "b[1] = 10\n",
    "b[2][0] = 10\n",
    "\n",
    "print('a:', a)\n",
    "print('b:', b) # a와 b가 완전히 다른 객체이다. b의 내부 객체를 수정해도 a의 내부 객체는 수정되지 않는다."
   ]
  },
  {
   "cell_type": "code",
   "execution_count": null,
   "metadata": {},
   "outputs": [],
   "source": []
  }
 ],
 "metadata": {
  "kernelspec": {
   "display_name": "base",
   "language": "python",
   "name": "python3"
  },
  "language_info": {
   "codemirror_mode": {
    "name": "ipython",
    "version": 3
   },
   "file_extension": ".py",
   "mimetype": "text/x-python",
   "name": "python",
   "nbconvert_exporter": "python",
   "pygments_lexer": "ipython3",
   "version": "3.11.7"
  }
 },
 "nbformat": 4,
 "nbformat_minor": 2
}
